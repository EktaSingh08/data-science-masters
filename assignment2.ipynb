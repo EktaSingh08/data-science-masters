{
 "cells": [
  {
   "cell_type": "code",
   "execution_count": 4,
   "id": "93828a3e-5f69-4f8a-be4b-65ee4028831b",
   "metadata": {},
   "outputs": [
    {
     "name": "stdin",
     "output_type": "stream",
     "text": [
      "what is your percentage? 86\n"
     ]
    },
    {
     "name": "stdout",
     "output_type": "stream",
     "text": [
      "you got B grade\n"
     ]
    }
   ],
   "source": [
    "## Ans (1)\n",
    "\n",
    "percentage=int(input('what is your percentage?'))\n",
    "if percentage > 90:\n",
    "    print('you got A grade')\n",
    "elif percentage > 80 and percentage <=90:\n",
    "    print('you got B grade')\n",
    "elif percentage > 60 and percentage <=80:\n",
    "    print('you got C grade')\n",
    "    \n",
    "else:\n",
    "    print('you got D grade')\n",
    "    \n",
    "        "
   ]
  },
  {
   "cell_type": "code",
   "execution_count": 6,
   "id": "f1fef844-22ee-4c7f-8645-fee56d1db202",
   "metadata": {},
   "outputs": [
    {
     "name": "stdin",
     "output_type": "stream",
     "text": [
      "what is the cost price of the bike? 200000\n"
     ]
    },
    {
     "name": "stdout",
     "output_type": "stream",
     "text": [
      "you need to pay Rs30000.0 as a road tax\n"
     ]
    }
   ],
   "source": [
    "## Ans (2)\n",
    "\n",
    "cost_price=int(input('what is the cost price of the bike?'))\n",
    "if cost_price > 100000:\n",
    "    print(f'you need to pay Rs{cost_price*0.15} as a road tax')\n",
    "elif cost_price > 50000 and cost_price <= 100000:\n",
    "    print(f'you need to pay Rs{cost_price*0.1} as a road tax')\n",
    "\n",
    "else:\n",
    "    print(f'you need to pay Rs{cost_price*0.05} as a road tax')\n",
    "    "
   ]
  },
  {
   "cell_type": "code",
   "execution_count": 7,
   "id": "1402ee83-fc75-4b66-8a28-728a6e641c06",
   "metadata": {},
   "outputs": [
    {
     "name": "stdin",
     "output_type": "stream",
     "text": [
      "which city you want to explore? Agra\n"
     ]
    },
    {
     "name": "stdout",
     "output_type": "stream",
     "text": [
      "you can visit Taj Mahal\n"
     ]
    }
   ],
   "source": [
    "## Ans (3)\n",
    "\n",
    "city=input('which city you want to explore?')\n",
    "if city=='delhi' or city=='Delhi':\n",
    "    print('you can visit Red Fort')\n",
    "elif city=='agra' or city=='Agra':\n",
    "    print('you can visit Taj Mahal')\n",
    "elif city=='jaipur' or city=='Jaipur':\n",
    "    print('ypu can visit Jalmahal')\n",
    "    \n",
    "\n",
    "else:\n",
    "    print('no results found')\n",
    "    "
   ]
  },
  {
   "cell_type": "code",
   "execution_count": 13,
   "id": "04d24564-9dc6-44a0-a081-1d97eb343b1c",
   "metadata": {},
   "outputs": [
    {
     "name": "stdin",
     "output_type": "stream",
     "text": [
      "write the number 349\n"
     ]
    },
    {
     "name": "stdout",
     "output_type": "stream",
     "text": [
      "Total iteration required 4\n"
     ]
    }
   ],
   "source": [
    "## Ans (4)\n",
    "\n",
    "count = 0\n",
    "number = int(input('write the number'))\n",
    "while number >= 10:\n",
    "    \n",
    "    number = number / 3\n",
    "    \n",
    "    count = count + 1\n",
    "print('Total iteration required', count)"
   ]
  },
  {
   "cell_type": "code",
   "execution_count": null,
   "id": "258dcf53-4dca-4b21-a853-fa6928378c17",
   "metadata": {},
   "outputs": [],
   "source": [
    "## Ans (5)\n",
    "''' while loop :- till the condition is satisfied or comes true , it will keep on executing so,\n",
    "make sure to give the condition properly , otherwise it can go to infinite loop'''\n",
    "\n"
   ]
  },
  {
   "cell_type": "code",
   "execution_count": 21,
   "id": "fe9d7b2d-1279-4caf-832b-ffb8eb87fd52",
   "metadata": {},
   "outputs": [
    {
     "name": "stdout",
     "output_type": "stream",
     "text": [
      "25\n",
      "26\n",
      "27\n",
      "28\n",
      "29\n",
      "30\n",
      "31\n",
      "32\n",
      "33\n",
      "34\n",
      "35\n",
      "36\n",
      "37\n",
      "38\n",
      "39\n",
      "40\n",
      "41\n",
      "42\n",
      "43\n",
      "44\n",
      "45\n",
      "46\n",
      "47\n",
      "48\n",
      "49\n",
      "50\n",
      "51\n",
      "52\n",
      "53\n",
      "54\n",
      "55\n",
      "56\n",
      "57\n",
      "58\n",
      "59\n",
      "60\n",
      "its time for retirement\n"
     ]
    }
   ],
   "source": [
    "joining_age=25\n",
    "while joining_age<=60:\n",
    "    print(joining_age)\n",
    "    joining_age=joining_age+1\n",
    "    \n",
    "else:\n",
    "    print(\"its time for retirement\")"
   ]
  },
  {
   "cell_type": "code",
   "execution_count": 14,
   "id": "881109a5-be35-41e4-9a80-243454279b53",
   "metadata": {},
   "outputs": [
    {
     "name": "stdout",
     "output_type": "stream",
     "text": [
      "* * * * * \n",
      "* * * * \n",
      "* * * \n",
      "* * \n",
      "* \n"
     ]
    }
   ],
   "source": [
    "## Ans (6)\n",
    "n=5\n",
    "for i in range(n):\n",
    "    for j in range(i,n):\n",
    "        print('*',end=' ')\n",
    "    print()"
   ]
  },
  {
   "cell_type": "code",
   "execution_count": 18,
   "id": "17394b4c-aec3-4763-a8a0-6dda4be2685b",
   "metadata": {},
   "outputs": [
    {
     "name": "stdout",
     "output_type": "stream",
     "text": [
      "          * \n",
      "        * * \n",
      "      * * * \n",
      "    * * * * \n",
      "  * * * * * \n"
     ]
    }
   ],
   "source": [
    "n=5\n",
    "for i in range(n):\n",
    "    \n",
    "    for j in range(i,n):\n",
    "        print(' ',end=' ')\n",
    "    for j in range(i+1):\n",
    "        print('*',end=' ')\n",
    "    print()"
   ]
  },
  {
   "cell_type": "code",
   "execution_count": 19,
   "id": "903fc281-6706-467e-a449-af57920c1ad2",
   "metadata": {},
   "outputs": [
    {
     "name": "stdout",
     "output_type": "stream",
     "text": [
      "          * \n",
      "        * * * \n",
      "      * * * * * \n",
      "    * * * * * * * \n",
      "  * * * * * * * * * \n"
     ]
    }
   ],
   "source": [
    "n=5\n",
    "for i in range(n):\n",
    "    \n",
    "    for j in range(i,n):\n",
    "        print(' ',end=' ')\n",
    "    for j in range(i):\n",
    "        print('*',end=' ')\n",
    "    for j in range(i+1):\n",
    "        print('*',end=' ')\n",
    "    print()"
   ]
  },
  {
   "cell_type": "code",
   "execution_count": 20,
   "id": "782420e6-cb76-4ebd-8410-9e9bd9dfad9f",
   "metadata": {},
   "outputs": [
    {
     "name": "stdout",
     "output_type": "stream",
     "text": [
      "10\n",
      "9\n",
      "8\n",
      "7\n",
      "6\n",
      "5\n",
      "4\n",
      "3\n",
      "2\n",
      "1\n"
     ]
    }
   ],
   "source": [
    "## Ans (7,8 \n",
    "number=10\n",
    "while number!=0:\n",
    "    print(number)\n",
    "    number= number-1\n",
    "    \n",
    "    \n",
    "    "
   ]
  },
  {
   "cell_type": "code",
   "execution_count": null,
   "id": "7312f9a4-a178-4e08-b87e-a63cb896f99a",
   "metadata": {},
   "outputs": [],
   "source": []
  }
 ],
 "metadata": {
  "kernelspec": {
   "display_name": "Python 3 (ipykernel)",
   "language": "python",
   "name": "python3"
  },
  "language_info": {
   "codemirror_mode": {
    "name": "ipython",
    "version": 3
   },
   "file_extension": ".py",
   "mimetype": "text/x-python",
   "name": "python",
   "nbconvert_exporter": "python",
   "pygments_lexer": "ipython3",
   "version": "3.10.8"
  }
 },
 "nbformat": 4,
 "nbformat_minor": 5
}

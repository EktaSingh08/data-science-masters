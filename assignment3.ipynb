{
 "cells": [
  {
   "cell_type": "code",
   "execution_count": null,
   "id": "6d717642-4faf-4c4c-8c32-72630019a0e7",
   "metadata": {},
   "outputs": [],
   "source": [
    "Ans 1)  Characteristics of Tuples\n",
    "        Tuples have the given characteristics:\n",
    "        They are indexed\n",
    "        Tuples are ordered\n",
    "        These are immutable\n",
    "        They can contain duplicate items\n",
    "    yes tuples are immutable"
   ]
  },
  {
   "cell_type": "code",
   "execution_count": null,
   "id": "aef9bc2e-8eaf-4794-b39a-ff5103deac78",
   "metadata": {},
   "outputs": [],
   "source": [
    "Ans 2) two tuple methods are:-\n",
    "        count() :- returns count of the element in the tuple\n",
    "        index() :- returns the index of the element in the tuple\n",
    "    example:-\n",
    "    \n",
    "since tuples are immutable and once data entered cannot be modified , hence there are not many methods available in tuples\n",
    "tuples can be used to make passwords."
   ]
  },
  {
   "cell_type": "code",
   "execution_count": 9,
   "id": "2515f25f-3323-4ee6-9995-d5cf542feac1",
   "metadata": {},
   "outputs": [
    {
     "data": {
      "text/plain": [
       "2"
      ]
     },
     "execution_count": 9,
     "metadata": {},
     "output_type": "execute_result"
    }
   ],
   "source": [
    "E1=(1,2,3,4,5,'ekta','ekta')\n",
    "E1.count('ekta')\n"
   ]
  },
  {
   "cell_type": "code",
   "execution_count": 11,
   "id": "c421c4b4-de19-4e12-9afb-9e88b0d5cbdf",
   "metadata": {},
   "outputs": [
    {
     "data": {
      "text/plain": [
       "3"
      ]
     },
     "execution_count": 11,
     "metadata": {},
     "output_type": "execute_result"
    }
   ],
   "source": [
    "E1.index(4)"
   ]
  },
  {
   "cell_type": "code",
   "execution_count": null,
   "id": "64a6bbc5-1dbe-4649-b7c9-b86746f33117",
   "metadata": {},
   "outputs": [],
   "source": [
    "Ans 3) Set does not allow duplicate data types\n"
   ]
  },
  {
   "cell_type": "code",
   "execution_count": 3,
   "id": "ca47278f-e46e-4f5e-9c66-4d2e167440bd",
   "metadata": {},
   "outputs": [],
   "source": [
    "List = [1, 1, 1, 2, 1, 3, 1, 4, 2, 1, 2, 2, 2, 3, 2, 4, 3, 1, 3, 2, 3, 3, 3, 4, 4, 1, 4, 2, 4, 3, 4, 4]\n",
    "s1={ 1, 1, 1, 2, 1, 3, 1, 4, 2, 1, 2, 2, 2, 3, 2, 4, 3, 1, 3, 2, 3, 3, 3, 4, 4, 1, 4, 2, 4, 3, 4, 4}"
   ]
  },
  {
   "cell_type": "code",
   "execution_count": 4,
   "id": "158f1b8b-8f74-4ae8-9a15-93264346092f",
   "metadata": {},
   "outputs": [
    {
     "data": {
      "text/plain": [
       "{1, 2, 3, 4}"
      ]
     },
     "execution_count": 4,
     "metadata": {},
     "output_type": "execute_result"
    }
   ],
   "source": [
    "s1"
   ]
  },
  {
   "cell_type": "code",
   "execution_count": null,
   "id": "0146d380-8067-48b9-8f82-c10e4d795bd9",
   "metadata": {},
   "outputs": [],
   "source": [
    "Ans 4) union() returns a new set that contains all the elements from both sets\n",
    "        update() modifies one of the sets to include all the elements from both sets\n",
    "    example:-"
   ]
  },
  {
   "cell_type": "code",
   "execution_count": 5,
   "id": "2748d17a-505b-4808-995e-ab01829fdfb8",
   "metadata": {},
   "outputs": [
    {
     "name": "stdout",
     "output_type": "stream",
     "text": [
      "{1, 3, 5, 6, 9}\n"
     ]
    }
   ],
   "source": [
    "set1={1,3,5}\n",
    "set2={3,6,9}\n",
    "set3=set1.union(set2)\n",
    "print(set3)"
   ]
  },
  {
   "cell_type": "code",
   "execution_count": 8,
   "id": "8e6c40b4-7f9e-49aa-841b-02665383e704",
   "metadata": {},
   "outputs": [
    {
     "name": "stdout",
     "output_type": "stream",
     "text": [
      "{1, 3, 5, 6, 9}\n"
     ]
    }
   ],
   "source": [
    "set1.update(set2)\n",
    "print(set1)\n"
   ]
  },
  {
   "cell_type": "code",
   "execution_count": null,
   "id": "37be2cef-e658-42be-bf6f-bcb6d3378c2a",
   "metadata": {},
   "outputs": [],
   "source": [
    "Ans 5) Dictionaries are used to store data values in key:value pairs.\n",
    "        dictionary is unordered."
   ]
  },
  {
   "cell_type": "code",
   "execution_count": 10,
   "id": "942d6ed0-be9a-40a3-a779-70dd4abca845",
   "metadata": {},
   "outputs": [
    {
     "data": {
      "text/plain": [
       "{'name': 'ekta', 'surname': 'singh'}"
      ]
     },
     "execution_count": 10,
     "metadata": {},
     "output_type": "execute_result"
    }
   ],
   "source": [
    "d1={'name':'ekta','surname':'singh'}\n",
    "d1"
   ]
  },
  {
   "cell_type": "code",
   "execution_count": null,
   "id": "bead38b6-0ce4-4a46-b2bf-3c868130d5d2",
   "metadata": {},
   "outputs": [],
   "source": [
    "Ans 6) Yes, we can create a nested dictionary "
   ]
  },
  {
   "cell_type": "code",
   "execution_count": 13,
   "id": "774e99f2-6cc2-46c5-856e-5af8fc66e574",
   "metadata": {},
   "outputs": [
    {
     "data": {
      "text/plain": [
       "{'country': {'country1': 'India', 'capital': 'delhi'}, 'states': 29}"
      ]
     },
     "execution_count": 13,
     "metadata": {},
     "output_type": "execute_result"
    }
   ],
   "source": [
    "d2={'country':{'country1':'India','capital':'delhi'},'states':29}\n",
    "d2"
   ]
  },
  {
   "cell_type": "code",
   "execution_count": 24,
   "id": "d7592916-27bb-4aa1-968d-c2eed2bd53b5",
   "metadata": {},
   "outputs": [
    {
     "name": "stdout",
     "output_type": "stream",
     "text": [
      "python , machinelearning , deeplearning\n"
     ]
    }
   ],
   "source": [
    "## Ans 7) \n",
    "dict1 = {'language' : 'Python', 'course': 'Data Science Masters'}\n",
    "d=dict1.setdefault('topics',\"python , machinelearning , deeplearning\")\n",
    "print(d)                   "
   ]
  },
  {
   "cell_type": "code",
   "execution_count": 23,
   "id": "bc7d43e0-f7df-4792-b807-e3f95ca388cf",
   "metadata": {},
   "outputs": [
    {
     "data": {
      "text/plain": [
       "{'language': 'Python',\n",
       " 'course': 'Data Science Masters',\n",
       " 'topics': 'python,machinelearning,deeplearning'}"
      ]
     },
     "execution_count": 23,
     "metadata": {},
     "output_type": "execute_result"
    }
   ],
   "source": [
    "dict1"
   ]
  },
  {
   "cell_type": "code",
   "execution_count": null,
   "id": "c8e20209-113d-4d08-820c-304bca55313e",
   "metadata": {},
   "outputs": [],
   "source": [
    "Ans 8) keys:-\n",
    "The view object keys represent all the keys in a dictionary. You can retrieve the contents of this object using the keys() method.\n",
    "If you print the view object keys, it displays the new list of all the keys in the dictionary in order of insertion.\n",
    "\n",
    "Values:-\n",
    "values() is an built in method of Python programming language which returns a view object. \n",
    "That view object contains the value of the dictionary as a list.\n",
    "\n",
    "Items:-\n",
    "The items() method returns a new view of the dictionary’s items ((key, value) pairs) as a list with all dictionary keys with values."
   ]
  },
  {
   "cell_type": "code",
   "execution_count": 26,
   "id": "e207b32b-d693-4618-817b-95505092b23c",
   "metadata": {},
   "outputs": [],
   "source": [
    "dict2 = {'Sport': 'Cricket' , 'Teams': ['India', 'Australia', 'England', 'South Africa', 'Sri Lanka', 'New Zealand']}"
   ]
  },
  {
   "cell_type": "code",
   "execution_count": 29,
   "id": "07df88e2-35a2-470d-8c46-ce9149741663",
   "metadata": {},
   "outputs": [
    {
     "data": {
      "text/plain": [
       "dict_keys(['Sport', 'Teams'])"
      ]
     },
     "execution_count": 29,
     "metadata": {},
     "output_type": "execute_result"
    }
   ],
   "source": [
    "dict2.keys()\n"
   ]
  },
  {
   "cell_type": "code",
   "execution_count": 30,
   "id": "617277d8-61fd-428c-b2cf-f11d98b1a1a2",
   "metadata": {},
   "outputs": [
    {
     "data": {
      "text/plain": [
       "dict_values(['Cricket', ['India', 'Australia', 'England', 'South Africa', 'Sri Lanka', 'New Zealand']])"
      ]
     },
     "execution_count": 30,
     "metadata": {},
     "output_type": "execute_result"
    }
   ],
   "source": [
    "dict2.values()"
   ]
  },
  {
   "cell_type": "code",
   "execution_count": 31,
   "id": "96e0832c-5700-46f5-becb-c59eb7f2ae36",
   "metadata": {},
   "outputs": [
    {
     "data": {
      "text/plain": [
       "dict_items([('Sport', 'Cricket'), ('Teams', ['India', 'Australia', 'England', 'South Africa', 'Sri Lanka', 'New Zealand'])])"
      ]
     },
     "execution_count": 31,
     "metadata": {},
     "output_type": "execute_result"
    }
   ],
   "source": [
    "dict2.items()"
   ]
  }
 ],
 "metadata": {
  "kernelspec": {
   "display_name": "Python 3 (ipykernel)",
   "language": "python",
   "name": "python3"
  },
  "language_info": {
   "codemirror_mode": {
    "name": "ipython",
    "version": 3
   },
   "file_extension": ".py",
   "mimetype": "text/x-python",
   "name": "python",
   "nbconvert_exporter": "python",
   "pygments_lexer": "ipython3",
   "version": "3.10.8"
  }
 },
 "nbformat": 4,
 "nbformat_minor": 5
}

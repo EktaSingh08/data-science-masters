{
 "cells": [
  {
   "cell_type": "code",
   "execution_count": 64,
   "id": "b49e8856-3b67-48af-99b7-269c04dd289b",
   "metadata": {},
   "outputs": [],
   "source": [
    " Ans 1) def keyword is used to initialise a function "
   ]
  },
  {
   "cell_type": "code",
   "execution_count": null,
   "id": "9b097498-ef2e-401a-9491-60b18c178471",
   "metadata": {},
   "outputs": [],
   "source": [
    "def test_odd():\n",
    "    odd_numbers=[num for num in range(1,26) if num%2!=0]\n",
    "    return odd_numbers"
   ]
  },
  {
   "cell_type": "code",
   "execution_count": 65,
   "id": "e3f2144a-ee54-4588-8ee2-f8dfacadbd0b",
   "metadata": {},
   "outputs": [
    {
     "data": {
      "text/plain": [
       "[1, 3, 5, 7, 9, 11, 13, 15, 17, 19, 21, 23, 25]"
      ]
     },
     "execution_count": 65,
     "metadata": {},
     "output_type": "execute_result"
    }
   ],
   "source": [
    "test_odd()"
   ]
  },
  {
   "cell_type": "code",
   "execution_count": null,
   "id": "054f59b5-bab3-4e0e-ba51-8ad2734966a4",
   "metadata": {},
   "outputs": [],
   "source": [
    "Ans 2) *args is used in some functions so that it can take any number or type of arguments in the function\n",
    "       **kwargs is used in some functions so that it can take value in the form of key and data i.e as a dictionary"
   ]
  },
  {
   "cell_type": "code",
   "execution_count": 66,
   "id": "c3e2e6c9-f66a-4ba7-bc60-3b92c802fa18",
   "metadata": {},
   "outputs": [],
   "source": [
    "## *args \n",
    "\n",
    "def test1(*args):\n",
    "    return args\n",
    "    "
   ]
  },
  {
   "cell_type": "code",
   "execution_count": 67,
   "id": "cb476172-7fca-47e8-92d7-ea200559421e",
   "metadata": {},
   "outputs": [
    {
     "data": {
      "text/plain": [
       "(1, 2, 3, 'ekta', [5, 6, 7, 89], 43, 4)"
      ]
     },
     "execution_count": 67,
     "metadata": {},
     "output_type": "execute_result"
    }
   ],
   "source": [
    "test1(1,2,3,\"ekta\",[5,6,7,89],43,4)"
   ]
  },
  {
   "cell_type": "code",
   "execution_count": 68,
   "id": "ed47e548-c7b0-4292-b934-debb199dabbc",
   "metadata": {},
   "outputs": [],
   "source": [
    "## **kwargs\n",
    "\n",
    "def test2(**kwargs):\n",
    "    return kwargs"
   ]
  },
  {
   "cell_type": "code",
   "execution_count": 69,
   "id": "3e2561ff-e623-45df-8d6e-f9d55f36ed9b",
   "metadata": {},
   "outputs": [
    {
     "data": {
      "text/plain": [
       "{'a': 2, 'b': 4, 'name': 'ekta singh', 'c': [22, 33, 44]}"
      ]
     },
     "execution_count": 69,
     "metadata": {},
     "output_type": "execute_result"
    }
   ],
   "source": [
    "test2(a=2,b=4,name=\"ekta singh\", c=[22,33,44])"
   ]
  },
  {
   "cell_type": "code",
   "execution_count": null,
   "id": "9f53910c-aaed-4694-8249-2160b0c9f75e",
   "metadata": {},
   "outputs": [],
   "source": [
    "Ans 3) An iterator is an object that allows you to iterate over collections of data such as lists , tuples, dictionaries and sets.\n",
    "       The method used to intialise the iterator object is iter().The iter() method is called for the initialization of an iterator and returns the\n",
    "       the iterator object. The method used for iteration is next()."
   ]
  },
  {
   "cell_type": "code",
   "execution_count": 70,
   "id": "087bb8bb-f811-4b74-b305-13e4dc1ec1e6",
   "metadata": {},
   "outputs": [
    {
     "name": "stdout",
     "output_type": "stream",
     "text": [
      "2\n",
      "4\n",
      "6\n",
      "8\n",
      "10\n"
     ]
    }
   ],
   "source": [
    "iter_obj=iter([2,4,6,8,10,12,14,16,18,20])\n",
    "for i in range(5):\n",
    "    print(next(iter_obj))"
   ]
  },
  {
   "cell_type": "code",
   "execution_count": null,
   "id": "c3483b8e-5754-43e3-842a-6af2e5111342",
   "metadata": {},
   "outputs": [],
   "source": [
    "Ans 4) A generator function in python is a special type of function that returns an iterator , which produces a sequence of values when iterated\n",
    "       over 1,2,3,4,5.It is useful when you want to produce a large sequence of values but dont want to store all of them in memory at once.\n",
    "       The yield keyword is used to produce a value from the generator and pause the generator"
   ]
  },
  {
   "cell_type": "code",
   "execution_count": 71,
   "id": "1ee5f7f8-61ae-4bd2-9aa3-effe301521c5",
   "metadata": {},
   "outputs": [],
   "source": [
    "## example\n",
    "\n",
    "def test_fib(n):\n",
    "    a,b=0,1\n",
    "    for i in range(n):\n",
    "        yield a\n",
    "        a,b=b , a+b"
   ]
  },
  {
   "cell_type": "code",
   "execution_count": 72,
   "id": "e7318b71-3d20-41b1-9b50-d7351e7dd659",
   "metadata": {},
   "outputs": [
    {
     "data": {
      "text/plain": [
       "<generator object test_fib at 0x7f8ffc4e57e0>"
      ]
     },
     "execution_count": 72,
     "metadata": {},
     "output_type": "execute_result"
    }
   ],
   "source": [
    "test_fib(12)"
   ]
  },
  {
   "cell_type": "code",
   "execution_count": 73,
   "id": "bf678015-5372-4e5b-92d2-8c021ca645aa",
   "metadata": {},
   "outputs": [
    {
     "name": "stdout",
     "output_type": "stream",
     "text": [
      "0\n",
      "1\n",
      "1\n",
      "2\n",
      "3\n",
      "5\n",
      "8\n",
      "13\n",
      "21\n",
      "34\n",
      "55\n",
      "89\n"
     ]
    }
   ],
   "source": [
    "for i in test_fib(12):\n",
    "    print(i)"
   ]
  },
  {
   "cell_type": "code",
   "execution_count": 80,
   "id": "02813ad3-0785-4103-8b34-93d1b893522b",
   "metadata": {},
   "outputs": [],
   "source": [
    "## Ans 5)\n",
    "\n",
    "def prime_numbers():\n",
    "    n=2\n",
    "    while n < 1000:\n",
    "        if is_prime(n):\n",
    "            yield n\n",
    "        n += 1\n",
    "        \n",
    "def is_prime(n):\n",
    "    if n <= 1:\n",
    "        return False\n",
    "    for i in range(2, int(n**0.5) +1):\n",
    "        if n %i == 0:\n",
    "            return False\n",
    "    return True     "
   ]
  },
  {
   "cell_type": "code",
   "execution_count": 81,
   "id": "9420ec90-4f8a-43e2-a03f-ea75bcbbb61c",
   "metadata": {},
   "outputs": [
    {
     "name": "stdout",
     "output_type": "stream",
     "text": [
      "2\n",
      "3\n",
      "5\n",
      "7\n",
      "11\n",
      "13\n",
      "17\n",
      "19\n",
      "23\n",
      "29\n",
      "31\n",
      "37\n",
      "41\n",
      "43\n",
      "47\n",
      "53\n",
      "59\n",
      "61\n",
      "67\n",
      "71\n"
     ]
    }
   ],
   "source": [
    "generator = prime_numbers()\n",
    "for i in range(20):\n",
    "    print(next(generator))"
   ]
  }
 ],
 "metadata": {
  "kernelspec": {
   "display_name": "Python 3 (ipykernel)",
   "language": "python",
   "name": "python3"
  },
  "language_info": {
   "codemirror_mode": {
    "name": "ipython",
    "version": 3
   },
   "file_extension": ".py",
   "mimetype": "text/x-python",
   "name": "python",
   "nbconvert_exporter": "python",
   "pygments_lexer": "ipython3",
   "version": "3.10.8"
  }
 },
 "nbformat": 4,
 "nbformat_minor": 5
}

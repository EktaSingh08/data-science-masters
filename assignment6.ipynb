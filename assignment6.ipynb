{
 "cells": [
  {
   "cell_type": "code",
   "execution_count": 1,
   "id": "fb6d8f91-4d46-43ea-9979-9e6d92b54142",
   "metadata": {},
   "outputs": [],
   "source": [
    "\"\"\"Ans 1) \n",
    "\n",
    "## A class is a blueprint for creating objects. It defines the properties and behaviors that will be associated with the objects. In Python, a class is created using the class keyword.\n",
    "## An object is an instance of a class. It is a real-world entity that has a state and behavior associated with it. Almost everything in Python is an object, \n",
    "with its properties and methods\n",
    "\"\"\"\n",
    "class skills:\n",
    "    pass"
   ]
  },
  {
   "cell_type": "code",
   "execution_count": 2,
   "id": "d9b7949f-6dca-49d2-ace2-4717a98afe66",
   "metadata": {},
   "outputs": [
    {
     "name": "stdout",
     "output_type": "stream",
     "text": [
      "<class '__main__.skills'>\n"
     ]
    }
   ],
   "source": [
    "ekta=skills()\n",
    "print(type(ekta))"
   ]
  },
  {
   "cell_type": "code",
   "execution_count": 3,
   "id": "125f811f-8724-42ab-9d3d-8e3498d9cb99",
   "metadata": {},
   "outputs": [],
   "source": [
    "## here skills is a class and ekta is an object of it"
   ]
  },
  {
   "cell_type": "code",
   "execution_count": null,
   "id": "2150f13a-5a26-42ae-9267-b3610164904e",
   "metadata": {},
   "outputs": [],
   "source": [
    "\"\"\" Ans 2) The four pillars of OOPs in Python are Inheritance, Polymorphism, Encapsulation, and Abstraction.\n",
    "Inheritance allows a class to inherit properties and methods from another class.\n",
    "Polymorphism allows objects to take on multiple forms and can be implemented with inheritance.\n",
    "Encapsulation is the concept of wrapping data and methods that work on data within one unit, which puts restrictions on accessing variables and methods directly.\n",
    "Abstraction is the concept of hiding all the implementation of a class away from anything outside the class\n",
    "\"\"\""
   ]
  },
  {
   "cell_type": "code",
   "execution_count": null,
   "id": "411ff1fd-853f-4916-9295-e52a94b48ae8",
   "metadata": {},
   "outputs": [],
   "source": [
    "\"\"\" Ans 3) The __init__() function is a special method in Python that is used to initialize the attributes of an object when it is created. \n",
    "It is called automatically every time an object is created from a class. The __init__() method is used to assign values to object properties or perform \n",
    "other operations that are necessary to do when the object is being created.It is also known as a constructor\"\"\""
   ]
  },
  {
   "cell_type": "code",
   "execution_count": 8,
   "id": "28c46e56-d33e-408d-9c91-f17583ebc249",
   "metadata": {},
   "outputs": [],
   "source": [
    "## example\n",
    "\n",
    "\n",
    "class skills1:\n",
    "    \n",
    "    def __init__(self , phone_no, email_id, stu_id):\n",
    "        \n",
    "        self.phone_no=phone_no\n",
    "        self.email_id=email_id\n",
    "        self.stu_id=stu_id\n",
    "        \n",
    "    def return_student_details(self):\n",
    "         return self.phone_no , self.email_id , self.stu_id\n",
    "    "
   ]
  },
  {
   "cell_type": "code",
   "execution_count": null,
   "id": "1db486a8-3d78-4f35-84a1-0ab20f1125b6",
   "metadata": {},
   "outputs": [],
   "source": [
    "\"\"\"Ans 4) It is a convention and not a Python keyword. The self parameter is used in instance methods of a class and refers to the instance of the class that is currently being useaad.\n",
    "Whenever a method of an object created from a class is called, the object is automatically passed as the first argument using the self parameter."
   ]
  },
  {
   "cell_type": "code",
   "execution_count": null,
   "id": "eb0c5787-b43a-47fc-9b87-b39a1e71b24b",
   "metadata": {},
   "outputs": [],
   "source": [
    "\"\"\" Ans 5)\n",
    "inheritance is a mechanism that allows a class to inherit properties and methods from another class.\n",
    "This enables the creation of a hierarchy of classes that share a set of properties. \n",
    "\"\"\""
   ]
  },
  {
   "cell_type": "code",
   "execution_count": null,
   "id": "e60fb273-3753-47e4-aab8-5112ebf41bd8",
   "metadata": {},
   "outputs": [],
   "source": [
    "## Single inheritance: When a child class inherits from only one parent class\n",
    "\n",
    "class ParentClass:\n",
    "    # ParentClass methods and properties\n",
    "\n",
    "class ChildClass(ParentClass):\n",
    "    # ChildClass methods and properties"
   ]
  },
  {
   "cell_type": "code",
   "execution_count": null,
   "id": "64fad0b0-0c53-45f2-85b2-69251a37b552",
   "metadata": {},
   "outputs": [],
   "source": [
    "## Multiple inheritance: When a child class inherits from multiple parent classes\n",
    "\n",
    "class ParentClass1:\n",
    "    # ParentClass1 methods and properties\n",
    "\n",
    "class ParentClass2:\n",
    "    # ParentClass2 methods and properties\n",
    "\n",
    "class ChildClass(ParentClass1, ParentClass2):\n",
    "    # ChildClass methods and properties"
   ]
  },
  {
   "cell_type": "code",
   "execution_count": null,
   "id": "21a4e6b0-cb34-4170-9dcc-f255465eb3b3",
   "metadata": {},
   "outputs": [],
   "source": [
    "## Multilevel inheritance: When a class is derived from a class, which is also derived from another class.\n",
    "\n",
    "class GrandparentClass:\n",
    "    # GrandparentClass methods and properties\n",
    "\n",
    "class ParentClass(GrandparentClass):\n",
    "    # ParentClass methods and properties\n",
    "\n",
    "class ChildClass(ParentClass):\n",
    "    # ChildClass methods and properties"
   ]
  },
  {
   "cell_type": "code",
   "execution_count": null,
   "id": "7bb696c8-ef9b-4216-98e3-dde22feaae3c",
   "metadata": {},
   "outputs": [],
   "source": [
    "## Hierarchical inheritance: When more than one derived class is created from a single base class\n",
    "\n",
    "class BaseClass:\n",
    "    # BaseClass methods and properties\n",
    "\n",
    "class ChildClass1(BaseClass):\n",
    "    # ChildClass1 methods and properties\n",
    "\n",
    "class ChildClass2(BaseClass):\n",
    "    # ChildClass2 methods and properties"
   ]
  }
 ],
 "metadata": {
  "kernelspec": {
   "display_name": "Python 3 (ipykernel)",
   "language": "python",
   "name": "python3"
  },
  "language_info": {
   "codemirror_mode": {
    "name": "ipython",
    "version": 3
   },
   "file_extension": ".py",
   "mimetype": "text/x-python",
   "name": "python",
   "nbconvert_exporter": "python",
   "pygments_lexer": "ipython3",
   "version": "3.10.8"
  }
 },
 "nbformat": 4,
 "nbformat_minor": 5
}

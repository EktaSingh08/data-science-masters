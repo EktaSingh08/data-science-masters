{
 "cells": [
  {
   "cell_type": "code",
   "execution_count": 4,
   "id": "edd56342-f781-44e4-a251-4a013e5462f5",
   "metadata": {},
   "outputs": [],
   "source": [
    "## Ans 1) \n",
    "\n",
    "class vehicle():\n",
    "    def __init__(self , name_of_vehicle, max_speed , average_of_vehicle):\n",
    "        self.name_of_vehicle=name_of_vehicle\n",
    "        self.max_speed=max_speed\n",
    "        self.average_of_vehicle=average_of_vehicle\n",
    "    "
   ]
  },
  {
   "cell_type": "code",
   "execution_count": 5,
   "id": "490d0f4d-16c5-41b1-92dc-62a3d8a5472d",
   "metadata": {},
   "outputs": [],
   "source": [
    "## Ans 2)\n",
    "\n",
    "class car(vehicle):\n",
    "    \n",
    "    def __init__(self, name_of_vehicle, max_speed, average_of_vehicle):\n",
    "        super().__init__(name_of_vehicle, max_speed, average_of_vehicle)\n",
    "\n",
    "    def seating_capacity(self, capacity):\n",
    "        return f\"{self.name_of_vehicle} has a seating capacity of {capacity} passengers.\""
   ]
  },
  {
   "cell_type": "code",
   "execution_count": 8,
   "id": "446ef09e-4857-4769-a678-ec9954a32901",
   "metadata": {},
   "outputs": [
    {
     "data": {
      "text/plain": [
       "'Audi has a seating capacity of 5 passengers.'"
      ]
     },
     "execution_count": 8,
     "metadata": {},
     "output_type": "execute_result"
    }
   ],
   "source": [
    "c = car(\"Audi\", 200, 30)\n",
    "c.seating_capacity(5)"
   ]
  },
  {
   "cell_type": "code",
   "execution_count": null,
   "id": "37b259bc-6c6c-4896-acbf-ffcaa2daaffb",
   "metadata": {},
   "outputs": [],
   "source": [
    "\"\"\" Ans 3)  Multiple inheritance in Python refers to the ability of a class to inherit from more than one base class. \n",
    "            This allows the derived class to inherit all the features of the base classes.\"\"\""
   ]
  },
  {
   "cell_type": "code",
   "execution_count": 10,
   "id": "1853c56f-1896-4165-a532-7c986d58b4bd",
   "metadata": {},
   "outputs": [],
   "source": [
    "## example\n",
    "\n",
    "class ottplatforms():\n",
    "    \n",
    "    def test_contains(self):\n",
    "        return \"it contains varoius online streaming platforms like netflix , amazon prime etc\" "
   ]
  },
  {
   "cell_type": "code",
   "execution_count": 11,
   "id": "8890b841-5f0a-4791-990e-36588e2fe400",
   "metadata": {},
   "outputs": [],
   "source": [
    "class netflix():\n",
    "    def to_watch(self):\n",
    "        return \"it has movies and series to watch\"\n",
    "    "
   ]
  },
  {
   "cell_type": "code",
   "execution_count": 12,
   "id": "a3fc3ad9-2570-4d8c-87aa-c0ebe2f8f63f",
   "metadata": {},
   "outputs": [],
   "source": [
    "class series(ottplatforms , netflix):\n",
    "    def series_name(self):\n",
    "        return \"you are watching stranger things\"\n",
    "    "
   ]
  },
  {
   "cell_type": "code",
   "execution_count": 13,
   "id": "f4c01230-5518-4750-8a18-54a63266da1e",
   "metadata": {},
   "outputs": [],
   "source": [
    "series_obj=series()"
   ]
  },
  {
   "cell_type": "code",
   "execution_count": 14,
   "id": "13ee93fb-fdd2-4f35-a86b-a72f66167c16",
   "metadata": {},
   "outputs": [
    {
     "data": {
      "text/plain": [
       "'you are watching stranger things'"
      ]
     },
     "execution_count": 14,
     "metadata": {},
     "output_type": "execute_result"
    }
   ],
   "source": [
    "series_obj.series_name()"
   ]
  },
  {
   "cell_type": "code",
   "execution_count": 15,
   "id": "4bf360c6-80e3-4f85-a90c-392d2f9f63d6",
   "metadata": {},
   "outputs": [
    {
     "data": {
      "text/plain": [
       "'it contains varoius online streaming platforms like netflix , amazon prime etc'"
      ]
     },
     "execution_count": 15,
     "metadata": {},
     "output_type": "execute_result"
    }
   ],
   "source": [
    "series_obj.test_contains()"
   ]
  },
  {
   "cell_type": "code",
   "execution_count": 16,
   "id": "2a2d9eb2-b5be-4381-96ff-956966168a80",
   "metadata": {},
   "outputs": [
    {
     "data": {
      "text/plain": [
       "'it has movies and series to watch'"
      ]
     },
     "execution_count": 16,
     "metadata": {},
     "output_type": "execute_result"
    }
   ],
   "source": [
    "series_obj.to_watch()"
   ]
  },
  {
   "cell_type": "code",
   "execution_count": null,
   "id": "85adf25d-baa1-4c9b-8b48-9d5eaa311d26",
   "metadata": {},
   "outputs": [],
   "source": [
    "\"\"\" Ans 4)  getters and setters are methods that allow you to access and modify the attributes of a class. They are used to encapsulate the data and control the way \n",
    "            it is accessed and modified.Getters are methods that retrieve the value of an attribute, while setters are methods that set the value of an attribute.\"\"\""
   ]
  },
  {
   "cell_type": "code",
   "execution_count": 17,
   "id": "8925ee52-e5e2-46b8-8de5-8f8a97426c0c",
   "metadata": {},
   "outputs": [],
   "source": [
    "class MyClass:\n",
    "    def __init__(self, value):\n",
    "        self._value = value\n",
    "\n",
    "    # Getter method\n",
    "    @property\n",
    "    def value(self):\n",
    "        return self._value\n",
    "\n",
    "    # Setter method\n",
    "    @value.setter\n",
    "    def value(self, new_value):\n",
    "        if new_value < 0:\n",
    "            raise ValueError(\"Value cannot be negative\")\n",
    "        self._value = new_value"
   ]
  },
  {
   "cell_type": "code",
   "execution_count": 18,
   "id": "930a9f2b-01fd-4965-8ff1-7d8d1f069a87",
   "metadata": {},
   "outputs": [
    {
     "name": "stdout",
     "output_type": "stream",
     "text": [
      "10\n",
      "20\n"
     ]
    },
    {
     "ename": "ValueError",
     "evalue": "Value cannot be negative",
     "output_type": "error",
     "traceback": [
      "\u001b[0;31m---------------------------------------------------------------------------\u001b[0m",
      "\u001b[0;31mValueError\u001b[0m                                Traceback (most recent call last)",
      "Cell \u001b[0;32mIn[18], line 5\u001b[0m\n\u001b[1;32m      3\u001b[0m obj\u001b[38;5;241m.\u001b[39mvalue \u001b[38;5;241m=\u001b[39m \u001b[38;5;241m20\u001b[39m\n\u001b[1;32m      4\u001b[0m \u001b[38;5;28mprint\u001b[39m(obj\u001b[38;5;241m.\u001b[39mvalue)  \n\u001b[0;32m----> 5\u001b[0m \u001b[43mobj\u001b[49m\u001b[38;5;241;43m.\u001b[39;49m\u001b[43mvalue\u001b[49m \u001b[38;5;241m=\u001b[39m \u001b[38;5;241m-\u001b[39m\u001b[38;5;241m5\u001b[39m  \n",
      "Cell \u001b[0;32mIn[17], line 14\u001b[0m, in \u001b[0;36mMyClass.value\u001b[0;34m(self, new_value)\u001b[0m\n\u001b[1;32m     11\u001b[0m \u001b[38;5;129m@value\u001b[39m\u001b[38;5;241m.\u001b[39msetter\n\u001b[1;32m     12\u001b[0m \u001b[38;5;28;01mdef\u001b[39;00m \u001b[38;5;21mvalue\u001b[39m(\u001b[38;5;28mself\u001b[39m, new_value):\n\u001b[1;32m     13\u001b[0m     \u001b[38;5;28;01mif\u001b[39;00m new_value \u001b[38;5;241m<\u001b[39m \u001b[38;5;241m0\u001b[39m:\n\u001b[0;32m---> 14\u001b[0m         \u001b[38;5;28;01mraise\u001b[39;00m \u001b[38;5;167;01mValueError\u001b[39;00m(\u001b[38;5;124m\"\u001b[39m\u001b[38;5;124mValue cannot be negative\u001b[39m\u001b[38;5;124m\"\u001b[39m)\n\u001b[1;32m     15\u001b[0m     \u001b[38;5;28mself\u001b[39m\u001b[38;5;241m.\u001b[39m_value \u001b[38;5;241m=\u001b[39m new_value\n",
      "\u001b[0;31mValueError\u001b[0m: Value cannot be negative"
     ]
    }
   ],
   "source": [
    "obj = MyClass(10)\n",
    "print(obj.value)  \n",
    "obj.value = 20\n",
    "print(obj.value)  \n",
    "obj.value = -5  "
   ]
  },
  {
   "cell_type": "code",
   "execution_count": null,
   "id": "a36e7064-6fc6-459e-9229-f51e83243d73",
   "metadata": {},
   "outputs": [],
   "source": [
    "\"\"\" Ans 5) Method overriding in Python is when a child class provides a new implementation for a method that already exists in its parent class.\n",
    "            This allows the child class to customize the behavior of the inherited method. \"\"\""
   ]
  },
  {
   "cell_type": "code",
   "execution_count": null,
   "id": "7643b6fd-d720-469b-ac49-22ced6c135f8",
   "metadata": {},
   "outputs": [],
   "source": []
  },
  {
   "cell_type": "code",
   "execution_count": null,
   "id": "f77f9b55-8cdd-4b2c-a11c-374f14d791b9",
   "metadata": {},
   "outputs": [],
   "source": []
  }
 ],
 "metadata": {
  "kernelspec": {
   "display_name": "Python 3 (ipykernel)",
   "language": "python",
   "name": "python3"
  },
  "language_info": {
   "codemirror_mode": {
    "name": "ipython",
    "version": 3
   },
   "file_extension": ".py",
   "mimetype": "text/x-python",
   "name": "python",
   "nbconvert_exporter": "python",
   "pygments_lexer": "ipython3",
   "version": "3.10.8"
  }
 },
 "nbformat": 4,
 "nbformat_minor": 5
}

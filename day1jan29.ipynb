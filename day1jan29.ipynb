{
 "cells": [
  {
   "cell_type": "markdown",
   "id": "3868c177-e145-4cd0-a7ef-1c250584adef",
   "metadata": {
    "tags": []
   },
   "source": [
    "a=10"
   ]
  },
  {
   "cell_type": "code",
   "execution_count": 2,
   "id": "6366570a-b224-4663-91c4-fe3eec4d86ac",
   "metadata": {},
   "outputs": [
    {
     "data": {
      "text/plain": [
       "10"
      ]
     },
     "execution_count": 2,
     "metadata": {},
     "output_type": "execute_result"
    }
   ],
   "source": [
    "a"
   ]
  },
  {
   "cell_type": "markdown",
   "id": "c7e88704-ca52-42d6-a809-aa9352e3d112",
   "metadata": {},
   "source": [
    "## This is a Introduction session\n",
    "###This a pw data science masters class"
   ]
  },
  {
   "cell_type": "code",
   "execution_count": 5,
   "id": "487f0c46-c33a-4f1c-8198-275548ee60aa",
   "metadata": {},
   "outputs": [
    {
     "data": {
      "text/plain": [
       "20"
      ]
     },
     "execution_count": 5,
     "metadata": {},
     "output_type": "execute_result"
    }
   ],
   "source": [
    "## comments\n",
    "## for single line we use double \n",
    "a=20\n",
    "a\n"
   ]
  },
  {
   "cell_type": "code",
   "execution_count": 6,
   "id": "5c3590e2-e779-402a-b949-5dcfbfee0587",
   "metadata": {},
   "outputs": [
    {
     "data": {
      "text/plain": [
       "10"
      ]
     },
     "execution_count": 6,
     "metadata": {},
     "output_type": "execute_result"
    }
   ],
   "source": [
    "\"\"\" example of multiline comments\n",
    "this is  a multiline comment\n",
    "this ia a python exaampel\n",
    "\"\"\"\n",
    "\n",
    "a=10\n",
    "a"
   ]
  },
  {
   "cell_type": "markdown",
   "id": "82006b0b-88ae-4d7c-8ae1-3b102dbf9233",
   "metadata": {},
   "source": [
    "# hello\n",
    "## hello guys\n",
    "\n",
    "1. hii everyone"
   ]
  },
  {
   "cell_type": "markdown",
   "id": "b3779a58-ed27-47a9-82b1-70eb5c07afcf",
   "metadata": {},
   "source": [
    "### Numbers"
   ]
  },
  {
   "cell_type": "code",
   "execution_count": 2,
   "id": "2a10168f-afac-460d-b875-fe5a4dac2b59",
   "metadata": {},
   "outputs": [
    {
     "data": {
      "text/plain": [
       "4"
      ]
     },
     "execution_count": 2,
     "metadata": {},
     "output_type": "execute_result"
    }
   ],
   "source": [
    "1+3 "
   ]
  },
  {
   "cell_type": "code",
   "execution_count": 7,
   "id": "8ed99a35-4120-4b7a-aea9-6d2c7b089232",
   "metadata": {},
   "outputs": [
    {
     "name": "stdout",
     "output_type": "stream",
     "text": [
      "4\n"
     ]
    }
   ],
   "source": [
    "print(1+3) \n",
    " "
   ]
  },
  {
   "cell_type": "code",
   "execution_count": 10,
   "id": "22666b84-6393-4972-ba1f-ad1d1549fe54",
   "metadata": {},
   "outputs": [],
   "source": [
    "## when we write print then the number does not come as it act as a output console...this show \n",
    "## it is displaying something while the other one is simply just executing "
   ]
  },
  {
   "cell_type": "code",
   "execution_count": 13,
   "id": "277a9103-9a80-4f84-94b4-8311055b980f",
   "metadata": {},
   "outputs": [
    {
     "name": "stdout",
     "output_type": "stream",
     "text": [
      "hello wolrd i am ekta singh \n",
      " i am a student of physics wallah\n"
     ]
    }
   ],
   "source": [
    "print(\"hello wolrd i am ekta singh \\n i am a student of physics wallah\")\n",
    "## print is a inbuilt function and in python there are many inbuilt funtion and user shift and tab \n",
    "## in between the print and bracket to get the information , \\n is for new line\n"
   ]
  },
  {
   "cell_type": "markdown",
   "id": "076f7538-2b4c-4594-aaaa-e2a98c595204",
   "metadata": {},
   "source": [
    "### Variables Assignment"
   ]
  },
  {
   "cell_type": "code",
   "execution_count": 1,
   "id": "29bb3d5d-0c55-4222-a9c8-394ea0fc250f",
   "metadata": {},
   "outputs": [],
   "source": [
    "name=\"ekta singh\"\n",
    "designation=\"student\""
   ]
  },
  {
   "cell_type": "code",
   "execution_count": 2,
   "id": "b06cb7dc-8276-4a65-b648-982f4c423993",
   "metadata": {},
   "outputs": [
    {
     "data": {
      "text/plain": [
       "'ekta singh'"
      ]
     },
     "execution_count": 2,
     "metadata": {},
     "output_type": "execute_result"
    }
   ],
   "source": [
    "name"
   ]
  },
  {
   "cell_type": "code",
   "execution_count": 7,
   "id": "77d6db0d-4675-4695-a019-7afb3b31ca6e",
   "metadata": {},
   "outputs": [
    {
     "data": {
      "text/plain": [
       "str"
      ]
     },
     "execution_count": 7,
     "metadata": {},
     "output_type": "execute_result"
    }
   ],
   "source": [
    "type(\"\")\n",
    "## type is for indicating whether it is a string or any other type"
   ]
  },
  {
   "cell_type": "code",
   "execution_count": 8,
   "id": "f8d4a006-ee72-4205-8637-84069b6eb7ee",
   "metadata": {},
   "outputs": [
    {
     "data": {
      "text/plain": [
       "str"
      ]
     },
     "execution_count": 8,
     "metadata": {},
     "output_type": "execute_result"
    }
   ],
   "source": [
    "type(name)"
   ]
  },
  {
   "cell_type": "code",
   "execution_count": 3,
   "id": "c88efc14-164f-460f-99ba-ca038bc23511",
   "metadata": {},
   "outputs": [
    {
     "data": {
      "text/plain": [
       "'student'"
      ]
     },
     "execution_count": 3,
     "metadata": {},
     "output_type": "execute_result"
    }
   ],
   "source": [
    "designation\n"
   ]
  },
  {
   "cell_type": "code",
   "execution_count": 9,
   "id": "36a69ea4-2cae-4d4f-9e6c-9242c4573355",
   "metadata": {},
   "outputs": [],
   "source": [
    "number=30"
   ]
  },
  {
   "cell_type": "code",
   "execution_count": 10,
   "id": "698b6599-0e3e-4455-9727-62d42a9898e0",
   "metadata": {},
   "outputs": [
    {
     "data": {
      "text/plain": [
       "int"
      ]
     },
     "execution_count": 10,
     "metadata": {},
     "output_type": "execute_result"
    }
   ],
   "source": [
    "type(number)"
   ]
  },
  {
   "cell_type": "code",
   "execution_count": 4,
   "id": "57147c53-9166-4a6b-8b4c-0643f93ecb7e",
   "metadata": {},
   "outputs": [],
   "source": [
    "name=\"happy\"\n"
   ]
  },
  {
   "cell_type": "code",
   "execution_count": 5,
   "id": "077f631f-4bd6-4165-96fb-aa96516feac7",
   "metadata": {},
   "outputs": [
    {
     "data": {
      "text/plain": [
       "'happy'"
      ]
     },
     "execution_count": 5,
     "metadata": {},
     "output_type": "execute_result"
    }
   ],
   "source": [
    "name"
   ]
  },
  {
   "cell_type": "code",
   "execution_count": 6,
   "id": "5d5287e8-f789-4c2a-843b-402a3320a0b4",
   "metadata": {},
   "outputs": [],
   "source": [
    "## the value is overwritten as the latest value will be printed"
   ]
  },
  {
   "cell_type": "code",
   "execution_count": 11,
   "id": "7ff2a7a5-4b87-4c77-9ae7-7f4ac007b3d5",
   "metadata": {},
   "outputs": [],
   "source": [
    "decimal_num=3.7"
   ]
  },
  {
   "cell_type": "code",
   "execution_count": 12,
   "id": "451f138e-3efa-4306-a58f-e8de4243458a",
   "metadata": {},
   "outputs": [
    {
     "data": {
      "text/plain": [
       "3.7"
      ]
     },
     "execution_count": 12,
     "metadata": {},
     "output_type": "execute_result"
    }
   ],
   "source": [
    "decimal_num"
   ]
  },
  {
   "cell_type": "code",
   "execution_count": 16,
   "id": "587c4fee-2690-4cd8-b63c-6da7e0d5debb",
   "metadata": {},
   "outputs": [],
   "source": [
    "## if we write dec amd press tab button then it will automatically become deimal_num"
   ]
  },
  {
   "cell_type": "code",
   "execution_count": 17,
   "id": "a1e84461-c9e2-4fbd-8abf-c7a9fe204750",
   "metadata": {},
   "outputs": [
    {
     "data": {
      "text/plain": [
       "(1+3j)"
      ]
     },
     "execution_count": 17,
     "metadata": {},
     "output_type": "execute_result"
    }
   ],
   "source": [
    "1+3j\n"
   ]
  },
  {
   "cell_type": "code",
   "execution_count": 18,
   "id": "90e318a9-14f4-4757-bd82-88efa03817dc",
   "metadata": {},
   "outputs": [
    {
     "data": {
      "text/plain": [
       "complex"
      ]
     },
     "execution_count": 18,
     "metadata": {},
     "output_type": "execute_result"
    }
   ],
   "source": [
    "type(1+3j)"
   ]
  },
  {
   "cell_type": "code",
   "execution_count": 19,
   "id": "eeec2371-0a4b-4fd1-9782-b49e72a59856",
   "metadata": {},
   "outputs": [],
   "source": [
    "##single ' ' and double\" \" work the same"
   ]
  },
  {
   "cell_type": "code",
   "execution_count": 20,
   "id": "8e83c229-8952-4777-a2bd-3b110ccf36c9",
   "metadata": {},
   "outputs": [
    {
     "name": "stdout",
     "output_type": "stream",
     "text": [
      "hello\n",
      "hello\n"
     ]
    }
   ],
   "source": [
    "print('hello')\n",
    "print(\"hello\")"
   ]
  },
  {
   "cell_type": "code",
   "execution_count": 21,
   "id": "cc848a4d-deaf-45cf-b617-a478190a3d35",
   "metadata": {},
   "outputs": [],
   "source": [
    "## dont start the variable name with a number 1a \n",
    "number1=23 ## we can define it in that way\n"
   ]
  },
  {
   "cell_type": "code",
   "execution_count": 22,
   "id": "ddee0452-0861-4bd7-9d84-c689b95e0553",
   "metadata": {},
   "outputs": [
    {
     "name": "stdout",
     "output_type": "stream",
     "text": [
      "college\n",
      "PWSKILLS\n"
     ]
    }
   ],
   "source": [
    "## variable names are case sensitive and int and float are inbuilt keyword\n",
    "student='college'\n",
    "Student='PWSKILLS'\n",
    "print(student)\n",
    "print(Student)"
   ]
  },
  {
   "cell_type": "code",
   "execution_count": 25,
   "id": "3a395406-5c0b-43e9-b0c8-138eb3af9a8a",
   "metadata": {},
   "outputs": [],
   "source": [
    "## reserved keywords\n",
    "\n",
    "##int,float,len,complex,bool,str,return,yiel"
   ]
  },
  {
   "cell_type": "code",
   "execution_count": 26,
   "id": "5ba9f4cd-38ee-4bd3-b58a-39c8dcddab09",
   "metadata": {},
   "outputs": [
    {
     "data": {
      "text/plain": [
       "True"
      ]
     },
     "execution_count": 26,
     "metadata": {},
     "output_type": "execute_result"
    }
   ],
   "source": [
    "##boolean\n",
    "True\n"
   ]
  },
  {
   "cell_type": "code",
   "execution_count": 27,
   "id": "5e0664f8-da37-40dd-83f3-973ff192e5bd",
   "metadata": {},
   "outputs": [
    {
     "data": {
      "text/plain": [
       "False"
      ]
     },
     "execution_count": 27,
     "metadata": {},
     "output_type": "execute_result"
    }
   ],
   "source": [
    "False"
   ]
  },
  {
   "cell_type": "code",
   "execution_count": 28,
   "id": "df04657c-a542-4709-8e32-d5195d310836",
   "metadata": {},
   "outputs": [
    {
     "data": {
      "text/plain": [
       "False"
      ]
     },
     "execution_count": 28,
     "metadata": {},
     "output_type": "execute_result"
    }
   ],
   "source": [
    "True and False\n"
   ]
  },
  {
   "cell_type": "code",
   "execution_count": 29,
   "id": "640aef7a-fa42-43c0-bd75-9808918dec58",
   "metadata": {},
   "outputs": [
    {
     "data": {
      "text/plain": [
       "True"
      ]
     },
     "execution_count": 29,
     "metadata": {},
     "output_type": "execute_result"
    }
   ],
   "source": [
    "True or False"
   ]
  },
  {
   "cell_type": "code",
   "execution_count": 30,
   "id": "dc465d8f-037e-4abf-a8c0-3e7667556599",
   "metadata": {},
   "outputs": [
    {
     "data": {
      "text/plain": [
       "False"
      ]
     },
     "execution_count": 30,
     "metadata": {},
     "output_type": "execute_result"
    }
   ],
   "source": [
    "not True"
   ]
  },
  {
   "cell_type": "code",
   "execution_count": 31,
   "id": "160fa62d-ef05-4616-8e4e-1901fb5192a9",
   "metadata": {},
   "outputs": [
    {
     "data": {
      "text/plain": [
       "bool"
      ]
     },
     "execution_count": 31,
     "metadata": {},
     "output_type": "execute_result"
    }
   ],
   "source": [
    "type(not False)"
   ]
  },
  {
   "cell_type": "code",
   "execution_count": 32,
   "id": "dd0e4b66-cdf4-4eb7-bf2a-9ea658504f7f",
   "metadata": {},
   "outputs": [
    {
     "data": {
      "text/plain": [
       "False"
      ]
     },
     "execution_count": 32,
     "metadata": {},
     "output_type": "execute_result"
    }
   ],
   "source": [
    "bool(0)"
   ]
  },
  {
   "cell_type": "code",
   "execution_count": 33,
   "id": "4ee7b7c4-eb96-4da2-b971-6c1ad8d830f2",
   "metadata": {},
   "outputs": [
    {
     "data": {
      "text/plain": [
       "True"
      ]
     },
     "execution_count": 33,
     "metadata": {},
     "output_type": "execute_result"
    }
   ],
   "source": [
    "bool(1)"
   ]
  },
  {
   "cell_type": "code",
   "execution_count": 37,
   "id": "2d18ff95-c309-4c27-89ba-3b8798c176b3",
   "metadata": {},
   "outputs": [
    {
     "name": "stdout",
     "output_type": "stream",
     "text": [
      "True\n"
     ]
    }
   ],
   "source": [
    "a=1\n",
    "if bool(a)==True:\n",
    "    \n",
    "    print(\"True\")\n"
   ]
  },
  {
   "cell_type": "code",
   "execution_count": null,
   "id": "6ac3a9a6-ffdd-4222-b1a9-b742a92cf0d0",
   "metadata": {},
   "outputs": [],
   "source": [
    "## the process of converting a number into boolean value is called typecasting"
   ]
  },
  {
   "cell_type": "code",
   "execution_count": 38,
   "id": "cc29265a-4183-423a-93d0-6139688b3986",
   "metadata": {},
   "outputs": [
    {
     "data": {
      "text/plain": [
       "'23'"
      ]
     },
     "execution_count": 38,
     "metadata": {},
     "output_type": "execute_result"
    }
   ],
   "source": [
    "str('23') ## convert number into string using str function"
   ]
  },
  {
   "cell_type": "code",
   "execution_count": 39,
   "id": "76379733-6e82-4146-ba6a-f9a272c66820",
   "metadata": {},
   "outputs": [
    {
     "data": {
      "text/plain": [
       "45"
      ]
     },
     "execution_count": 39,
     "metadata": {},
     "output_type": "execute_result"
    }
   ],
   "source": [
    "int('45')"
   ]
  },
  {
   "cell_type": "code",
   "execution_count": 40,
   "id": "ef50ec11-0686-4ef4-a6e8-ee80cbff9f12",
   "metadata": {},
   "outputs": [
    {
     "data": {
      "text/plain": [
       "int"
      ]
     },
     "execution_count": 40,
     "metadata": {},
     "output_type": "execute_result"
    }
   ],
   "source": [
    "type(int('45'))"
   ]
  },
  {
   "cell_type": "markdown",
   "id": "0f7c8184-5d0f-4fb8-afbd-0a03b6b1dc2a",
   "metadata": {},
   "source": [
    "### Dyanamic Typing"
   ]
  },
  {
   "cell_type": "code",
   "execution_count": 41,
   "id": "64917f9c-8a44-4ac7-ab6e-c6f852155af6",
   "metadata": {},
   "outputs": [],
   "source": [
    "## python is a dynamic typing language which means we dont need to define variables example in C we write int a but here we can simply write \n",
    "## a=10 and compiler will understand in the runtime that it is a integer"
   ]
  },
  {
   "cell_type": "code",
   "execution_count": 42,
   "id": "bf853805-465c-410d-aa58-cc90c4848e67",
   "metadata": {},
   "outputs": [
    {
     "data": {
      "text/plain": [
       "1"
      ]
     },
     "execution_count": 42,
     "metadata": {},
     "output_type": "execute_result"
    }
   ],
   "source": [
    "int(1.5)"
   ]
  },
  {
   "cell_type": "code",
   "execution_count": 43,
   "id": "6d7b6a61-0dbc-4eaa-87fe-aa1ef3e8dad8",
   "metadata": {},
   "outputs": [],
   "source": [
    "## concatenation between different types but it cannot happen between different data types"
   ]
  },
  {
   "cell_type": "code",
   "execution_count": 45,
   "id": "a3a5f4f8-be74-4ec6-8081-501fc197be91",
   "metadata": {},
   "outputs": [
    {
     "data": {
      "text/plain": [
       "'11'"
      ]
     },
     "execution_count": 45,
     "metadata": {},
     "output_type": "execute_result"
    }
   ],
   "source": [
    "\"1\"+ \"1\""
   ]
  },
  {
   "cell_type": "code",
   "execution_count": 46,
   "id": "23d6efb0-b8f4-48d2-8d4b-9e37795cb1ed",
   "metadata": {},
   "outputs": [
    {
     "data": {
      "text/plain": [
       "2"
      ]
     },
     "execution_count": 46,
     "metadata": {},
     "output_type": "execute_result"
    }
   ],
   "source": [
    "int(\"1\") + int(\"1\")"
   ]
  },
  {
   "cell_type": "code",
   "execution_count": 47,
   "id": "41832fb1-4bb7-4cff-a72c-3de72316ce77",
   "metadata": {},
   "outputs": [
    {
     "ename": "TypeError",
     "evalue": "unsupported operand type(s) for +: 'int' and 'str'",
     "output_type": "error",
     "traceback": [
      "\u001b[0;31m---------------------------------------------------------------------------\u001b[0m",
      "\u001b[0;31mTypeError\u001b[0m                                 Traceback (most recent call last)",
      "Cell \u001b[0;32mIn[47], line 1\u001b[0m\n\u001b[0;32m----> 1\u001b[0m \u001b[38;5;28;43mint\u001b[39;49m\u001b[43m(\u001b[49m\u001b[38;5;124;43m\"\u001b[39;49m\u001b[38;5;124;43m1\u001b[39;49m\u001b[38;5;124;43m\"\u001b[39;49m\u001b[43m)\u001b[49m\u001b[43m \u001b[49m\u001b[38;5;241;43m+\u001b[39;49m\u001b[43m \u001b[49m\u001b[38;5;124;43m\"\u001b[39;49m\u001b[38;5;124;43m1\u001b[39;49m\u001b[38;5;124;43m\"\u001b[39;49m\n",
      "\u001b[0;31mTypeError\u001b[0m: unsupported operand type(s) for +: 'int' and 'str'"
     ]
    }
   ],
   "source": [
    "int(\"1\") + \"1\""
   ]
  },
  {
   "cell_type": "code",
   "execution_count": 48,
   "id": "5d4e4a98-f385-4620-baa0-b0c0cd334e7d",
   "metadata": {},
   "outputs": [
    {
     "ename": "TypeError",
     "evalue": "can't multiply sequence by non-int of type 'str'",
     "output_type": "error",
     "traceback": [
      "\u001b[0;31m---------------------------------------------------------------------------\u001b[0m",
      "\u001b[0;31mTypeError\u001b[0m                                 Traceback (most recent call last)",
      "Cell \u001b[0;32mIn[48], line 1\u001b[0m\n\u001b[0;32m----> 1\u001b[0m \u001b[38;5;124;43m\"\u001b[39;49m\u001b[38;5;124;43m1\u001b[39;49m\u001b[38;5;124;43m\"\u001b[39;49m\u001b[43m \u001b[49m\u001b[38;5;241;43m*\u001b[39;49m\u001b[43m \u001b[49m\u001b[38;5;124;43m\"\u001b[39;49m\u001b[38;5;124;43m1\u001b[39;49m\u001b[38;5;124;43m\"\u001b[39;49m\n",
      "\u001b[0;31mTypeError\u001b[0m: can't multiply sequence by non-int of type 'str'"
     ]
    }
   ],
   "source": [
    "\"1\" * \"1\""
   ]
  },
  {
   "cell_type": "code",
   "execution_count": 49,
   "id": "6027d374-15f4-42fe-a72d-fcaae9501cb8",
   "metadata": {},
   "outputs": [
    {
     "data": {
      "text/plain": [
       "'1111111111111111111111111111111111111111111111111111111111111111111111111111111111111111111111111111'"
      ]
     },
     "execution_count": 49,
     "metadata": {},
     "output_type": "execute_result"
    }
   ],
   "source": [
    "\"1\" * 100"
   ]
  },
  {
   "cell_type": "code",
   "execution_count": 50,
   "id": "c3755b03-7ca0-4392-926f-7ccdb2d31e7f",
   "metadata": {},
   "outputs": [
    {
     "data": {
      "text/plain": [
       "123.0"
      ]
     },
     "execution_count": 50,
     "metadata": {},
     "output_type": "execute_result"
    }
   ],
   "source": [
    "float(123) ##typecasting"
   ]
  },
  {
   "cell_type": "code",
   "execution_count": 51,
   "id": "53ddae41-7a51-4a12-8c98-22377a074712",
   "metadata": {},
   "outputs": [
    {
     "ename": "ZeroDivisionError",
     "evalue": "division by zero",
     "output_type": "error",
     "traceback": [
      "\u001b[0;31m---------------------------------------------------------------------------\u001b[0m",
      "\u001b[0;31mZeroDivisionError\u001b[0m                         Traceback (most recent call last)",
      "Cell \u001b[0;32mIn[51], line 1\u001b[0m\n\u001b[0;32m----> 1\u001b[0m \u001b[38;5;241;43m1\u001b[39;49m\u001b[38;5;241;43m/\u001b[39;49m\u001b[38;5;28;43;01mFalse\u001b[39;49;00m\n",
      "\u001b[0;31mZeroDivisionError\u001b[0m: division by zero"
     ]
    }
   ],
   "source": [
    "1/False"
   ]
  },
  {
   "cell_type": "code",
   "execution_count": 53,
   "id": "242e1d27-696d-41e3-b3ec-bb2b96af2d27",
   "metadata": {},
   "outputs": [
    {
     "data": {
      "text/plain": [
       "(-1+3j)"
      ]
     },
     "execution_count": 53,
     "metadata": {},
     "output_type": "execute_result"
    }
   ],
   "source": [
    "num1= 23\n",
    "num2= 44\n",
    "num2= 2+3j\n",
    "num1= num2.imag\n",
    "num2-num1"
   ]
  },
  {
   "cell_type": "code",
   "execution_count": 55,
   "id": "e01dc400-8337-4c83-ab5d-6694ab2f1428",
   "metadata": {},
   "outputs": [
    {
     "data": {
      "text/plain": [
       "'pwskills1'"
      ]
     },
     "execution_count": 55,
     "metadata": {},
     "output_type": "execute_result"
    }
   ],
   "source": [
    "'pwskills'  + str(1)"
   ]
  },
  {
   "cell_type": "code",
   "execution_count": 56,
   "id": "8b7987c0-3308-4dfd-bc80-98725b1f58c6",
   "metadata": {},
   "outputs": [
    {
     "ename": "TypeError",
     "evalue": "'str' object does not support item assignment",
     "output_type": "error",
     "traceback": [
      "\u001b[0;31m---------------------------------------------------------------------------\u001b[0m",
      "\u001b[0;31mTypeError\u001b[0m                                 Traceback (most recent call last)",
      "Cell \u001b[0;32mIn[56], line 2\u001b[0m\n\u001b[1;32m      1\u001b[0m name\u001b[38;5;241m=\u001b[39m\u001b[38;5;124m'\u001b[39m\u001b[38;5;124mpwsills\u001b[39m\u001b[38;5;124m'\u001b[39m\n\u001b[0;32m----> 2\u001b[0m \u001b[43mname\u001b[49m\u001b[43m[\u001b[49m\u001b[38;5;241;43m0\u001b[39;49m\u001b[43m]\u001b[49m\u001b[38;5;241m=\u001b[39m\u001b[38;5;124m'\u001b[39m\u001b[38;5;124mP\u001b[39m\u001b[38;5;124m'\u001b[39m\n",
      "\u001b[0;31mTypeError\u001b[0m: 'str' object does not support item assignment"
     ]
    }
   ],
   "source": [
    "name='pwsills'\n",
    "name[0]='P'"
   ]
  },
  {
   "cell_type": "code",
   "execution_count": 57,
   "id": "c93b28ad-fb24-4296-b595-b14e38126b21",
   "metadata": {},
   "outputs": [
    {
     "data": {
      "text/plain": [
       "True"
      ]
     },
     "execution_count": 57,
     "metadata": {},
     "output_type": "execute_result"
    }
   ],
   "source": [
    "'pwskills'.upper().lower().isalnum()"
   ]
  },
  {
   "cell_type": "code",
   "execution_count": null,
   "id": "24cbed1b-a859-4c93-8406-79c06cac943d",
   "metadata": {},
   "outputs": [],
   "source": []
  }
 ],
 "metadata": {
  "kernelspec": {
   "display_name": "Python 3 (ipykernel)",
   "language": "python",
   "name": "python3"
  },
  "language_info": {
   "codemirror_mode": {
    "name": "ipython",
    "version": 3
   },
   "file_extension": ".py",
   "mimetype": "text/x-python",
   "name": "python",
   "nbconvert_exporter": "python",
   "pygments_lexer": "ipython3",
   "version": "3.10.8"
  }
 },
 "nbformat": 4,
 "nbformat_minor": 5
}
